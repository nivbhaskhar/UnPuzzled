{
 "cells": [
  {
   "cell_type": "markdown",
   "metadata": {
    "colab_type": "text",
    "id": "l7IbYYe6ZlC4"
   },
   "source": [
    "# Evaluation and comparisons of solvers"
   ]
  },
  {
   "cell_type": "markdown",
   "metadata": {
    "colab_type": "text",
    "id": "sP3D__8IZlC6"
   },
   "source": [
    "We have three jigsaw puzzle solvers based on the following models which solve the __left-right-adjacency-problem__, namely\n",
    "\n",
    "* AdjacencyClassifier_NoML \n",
    "* FromScratch\n",
    "* ResNetFT\n",
    "\n",
    "\n",
    "To avoid introducing more terms, we call the jigsaw solvers by the names of the models they are based upon. We evaulate these solvers on 80 images from the CUB-200 test data set and compare their respective performances"
   ]
  },
  {
   "cell_type": "code",
   "execution_count": 62,
   "metadata": {
    "colab": {},
    "colab_type": "code",
    "id": "EwSsXur6ZlC7"
   },
   "outputs": [],
   "source": [
    "from PIL import Image\n",
    "import matplotlib.pyplot as plt\n",
    "from matplotlib_venn import venn3, venn3_unweighted\n",
    "import matplotlib.ticker as plticker\n",
    "import os\n",
    "import sys\n",
    "\n",
    "\n",
    "import pprint\n",
    "import itertools\n",
    "from collections import defaultdict\n",
    "import copy\n",
    "\n",
    "# generate random integer values\n",
    "import random\n",
    "from random import seed\n",
    "from random import randint\n",
    "import numpy as np\n",
    "import pandas as pd\n",
    "from pylab import array\n",
    "from random import sample\n",
    "import math\n",
    "\n",
    "import shelve\n",
    "\n",
    "import torch\n",
    "from torch.utils.data import Dataset, DataLoader, IterableDataset\n",
    "from torchvision import transforms, utils\n",
    "from torch import nn, optim\n",
    "from torchvision import datasets, transforms\n",
    "#from torchvision.utils import make_grid\n",
    "\n",
    "\n",
    "from Puzzle_generator import *\n",
    "from Checking_adjacency_dataset import *\n",
    "from FromScratch_CNN import *\n",
    "from ResNetFT_Finetuning import *\n",
    "from Training_template import *\n",
    "from Adjacency_distance import *\n",
    "from Search_template_gpu import *"
   ]
  },
  {
   "cell_type": "markdown",
   "metadata": {
    "colab_type": "text",
    "id": "vRHv21HKZlDF"
   },
   "source": [
    "# Setting up"
   ]
  },
  {
   "cell_type": "markdown",
   "metadata": {
    "colab_type": "text",
    "id": "PK5uOxzSZlDG"
   },
   "source": [
    "## Checking GPU availability"
   ]
  },
  {
   "cell_type": "code",
   "execution_count": 63,
   "metadata": {
    "colab": {
     "base_uri": "https://localhost:8080/",
     "height": 34
    },
    "colab_type": "code",
    "id": "hYbpnvh9ZlDG",
    "outputId": "3502fc59-6826-4b4c-e836-5faa58ca8957"
   },
   "outputs": [
    {
     "name": "stdout",
     "output_type": "stream",
     "text": [
      "Running on the CPU\n"
     ]
    }
   ],
   "source": [
    "if torch.cuda.is_available():\n",
    "    GpuAvailable=True\n",
    "    my_device = torch.device(\"cuda:0\")   \n",
    "    print(\"Running on the GPU\")\n",
    "else:\n",
    "    GpuAvailable=False\n",
    "    my_device = torch.device(\"cpu\")\n",
    "    print(\"Running on the CPU\")\n",
    "\n",
    "\n"
   ]
  },
  {
   "cell_type": "markdown",
   "metadata": {},
   "source": [
    "## Inputs"
   ]
  },
  {
   "cell_type": "code",
   "execution_count": 64,
   "metadata": {
    "colab": {
     "base_uri": "https://localhost:8080/",
     "height": 34
    },
    "colab_type": "code",
    "id": "fh5LfQHdZsEe",
    "outputId": "e1e47cd4-8981-4ac3-e9fb-f9b25b01352d"
   },
   "outputs": [],
   "source": [
    "#Input global variables\n",
    "my_test_dir = os.getenv(\"MY_TEST_DIR\")\n",
    "no_of_test_images = 80\n",
    "my_puzzle_square_piece_dim = 75\n"
   ]
  },
  {
   "cell_type": "markdown",
   "metadata": {
    "colab_type": "text",
    "id": "A00OqCsdZlDQ"
   },
   "source": [
    "## Loading models"
   ]
  },
  {
   "cell_type": "code",
   "execution_count": 65,
   "metadata": {
    "colab": {},
    "colab_type": "code",
    "id": "WXJGEl5QZlDR"
   },
   "outputs": [],
   "source": [
    "my_learning_rate = 0.001\n",
    "my_momentum = 0.9\n"
   ]
  },
  {
   "cell_type": "code",
   "execution_count": 66,
   "metadata": {
    "colab": {
     "base_uri": "https://localhost:8080/",
     "height": 1000
    },
    "colab_type": "code",
    "id": "thavEDw1ZlDU",
    "outputId": "92bd2d9c-0520-45ae-91f8-e5747f6ac64b"
   },
   "outputs": [
    {
     "name": "stdout",
     "output_type": "stream",
     "text": [
      "Using FromScratch - Expect more number of parameters to learn!\n",
      "\t bigunit.0.conv1.weight\n",
      "\t bigunit.0.conv2.weight\n",
      "\t bigunit.0.unit.2.weight\n",
      "\t bigunit.0.unit.2.bias\n",
      "\t bigunit.0.unit.5.weight\n",
      "\t bigunit.0.unit.5.bias\n",
      "\t bigunit.1.conv1.weight\n",
      "\t bigunit.1.conv2.weight\n",
      "\t bigunit.1.unit.2.weight\n",
      "\t bigunit.1.unit.2.bias\n",
      "\t bigunit.1.unit.5.weight\n",
      "\t bigunit.1.unit.5.bias\n",
      "\t bigunit.2.conv1.weight\n",
      "\t bigunit.2.conv2.weight\n",
      "\t bigunit.2.unit.2.weight\n",
      "\t bigunit.2.unit.2.bias\n",
      "\t bigunit.2.unit.5.weight\n",
      "\t bigunit.2.unit.5.bias\n",
      "\t bigunit.3.conv1.weight\n",
      "\t bigunit.3.conv2.weight\n",
      "\t bigunit.3.unit.2.weight\n",
      "\t bigunit.3.unit.2.bias\n",
      "\t bigunit.3.unit.5.weight\n",
      "\t bigunit.3.unit.5.bias\n",
      "\t bigunit.4.conv1.weight\n",
      "\t bigunit.4.conv2.weight\n",
      "\t bigunit.4.unit.2.weight\n",
      "\t bigunit.4.unit.2.bias\n",
      "\t bigunit.4.unit.5.weight\n",
      "\t bigunit.4.unit.5.bias\n",
      "\t bigunit.5.conv1.weight\n",
      "\t bigunit.5.conv2.weight\n",
      "\t bigunit.5.unit.2.weight\n",
      "\t bigunit.5.unit.2.bias\n",
      "\t bigunit.5.unit.5.weight\n",
      "\t bigunit.5.unit.5.bias\n",
      "\t fc1.weight\n",
      "\t fc1.bias\n",
      "\t bn1.weight\n",
      "\t bn1.bias\n",
      "\t fc2.weight\n",
      "\t fc2.bias\n",
      "\t bn2.weight\n",
      "\t bn2.bias\n",
      "No_of_parameters to learn : 44\n",
      "Fine tuning ResNet - Expect more number of parameters to learn!\n",
      "\t conv1.weight\n",
      "\t bn1.weight\n",
      "\t bn1.bias\n",
      "\t layer1.0.conv1.weight\n",
      "\t layer1.0.bn1.weight\n",
      "\t layer1.0.bn1.bias\n",
      "\t layer1.0.conv2.weight\n",
      "\t layer1.0.bn2.weight\n",
      "\t layer1.0.bn2.bias\n",
      "\t layer1.1.conv1.weight\n",
      "\t layer1.1.bn1.weight\n",
      "\t layer1.1.bn1.bias\n",
      "\t layer1.1.conv2.weight\n",
      "\t layer1.1.bn2.weight\n",
      "\t layer1.1.bn2.bias\n",
      "\t layer2.0.conv1.weight\n",
      "\t layer2.0.bn1.weight\n",
      "\t layer2.0.bn1.bias\n",
      "\t layer2.0.conv2.weight\n",
      "\t layer2.0.bn2.weight\n",
      "\t layer2.0.bn2.bias\n",
      "\t layer2.0.downsample.0.weight\n",
      "\t layer2.0.downsample.1.weight\n",
      "\t layer2.0.downsample.1.bias\n",
      "\t layer2.1.conv1.weight\n",
      "\t layer2.1.bn1.weight\n",
      "\t layer2.1.bn1.bias\n",
      "\t layer2.1.conv2.weight\n",
      "\t layer2.1.bn2.weight\n",
      "\t layer2.1.bn2.bias\n",
      "\t layer3.0.conv1.weight\n",
      "\t layer3.0.bn1.weight\n",
      "\t layer3.0.bn1.bias\n",
      "\t layer3.0.conv2.weight\n",
      "\t layer3.0.bn2.weight\n",
      "\t layer3.0.bn2.bias\n",
      "\t layer3.0.downsample.0.weight\n",
      "\t layer3.0.downsample.1.weight\n",
      "\t layer3.0.downsample.1.bias\n",
      "\t layer3.1.conv1.weight\n",
      "\t layer3.1.bn1.weight\n",
      "\t layer3.1.bn1.bias\n",
      "\t layer3.1.conv2.weight\n",
      "\t layer3.1.bn2.weight\n",
      "\t layer3.1.bn2.bias\n",
      "\t layer4.0.conv1.weight\n",
      "\t layer4.0.bn1.weight\n",
      "\t layer4.0.bn1.bias\n",
      "\t layer4.0.conv2.weight\n",
      "\t layer4.0.bn2.weight\n",
      "\t layer4.0.bn2.bias\n",
      "\t layer4.0.downsample.0.weight\n",
      "\t layer4.0.downsample.1.weight\n",
      "\t layer4.0.downsample.1.bias\n",
      "\t layer4.1.conv1.weight\n",
      "\t layer4.1.bn1.weight\n",
      "\t layer4.1.bn1.bias\n",
      "\t layer4.1.conv2.weight\n",
      "\t layer4.1.bn2.weight\n",
      "\t layer4.1.bn2.bias\n",
      "\t fc.weight\n",
      "\t fc.bias\n",
      "No_of_parameters to learn : 62\n"
     ]
    }
   ],
   "source": [
    "model_names = ['AdjacencyClassifier_NoML', 'FromScratch', 'ResNetFT']\n",
    "models = [AdjacencyClassifier_NoML()]\n",
    "for i in [1,2]:\n",
    "    model_name=model_names[i]\n",
    "    model,loss_criterion,optimizer = make_model_lc_optimizer(model_name,\n",
    "                                                             my_learning_rate,\n",
    "                                                             my_momentum)\n",
    "    best_model_path=f\"./best_model_for_{model_name}.pt\"\n",
    "    model, optimizer, epochs_trained, min_val_loss = load_checkpoint_gpu(best_model_path,\n",
    "                                                                         model, \n",
    "                                                                         optimizer,\n",
    "                                                                         GpuAvailable)\n",
    "    model.eval()\n",
    "    models.append(model)\n",
    "    if 'GpuAvailable':\n",
    "        models[i].to(my_device)\n",
    "\n",
    "    \n",
    "    \n",
    "    "
   ]
  },
  {
   "cell_type": "markdown",
   "metadata": {
    "colab_type": "text",
    "id": "l7OI62p4ZlDZ"
   },
   "source": [
    "## Solver evaluation functions"
   ]
  },
  {
   "cell_type": "code",
   "execution_count": 67,
   "metadata": {
    "colab": {},
    "colab_type": "code",
    "id": "aIKHw5VSZlDa"
   },
   "outputs": [],
   "source": [
    "def calculate_example_metric(file_name, puzzle_square_piece_dim,model_name, model, puzzle_input,device, show_solving_progress=False,input_display=False):\n",
    "    if show_solving_progress:\n",
    "        print(f\"Solving {file_name}...\")\n",
    "    rows = puzzle_input[0]\n",
    "    cols = puzzle_input[1] \n",
    "    no_of_pieces = rows*cols\n",
    "    top_left_piece_new_label = puzzle_input[2] \n",
    "    top_left_piece_orientation = puzzle_input[3] \n",
    "    new_to_old_label_dict = puzzle_input[4]\n",
    "    shuffled_puzzle_pieces_np = puzzle_input[5]\n",
    "    board = solve_puzzle(rows, cols,top_left_piece_new_label,top_left_piece_orientation, \n",
    "                         shuffled_puzzle_pieces_np, puzzle_square_piece_dim,model_name, model,device,show_solving_progress)\n",
    "    if show_solving_progress:\n",
    "        print(\"*****************\")\n",
    "        print(f\"Solved puzzle using {model_name} solver\")\n",
    "        board.display(puzzle_square_piece_dim)    \n",
    "    information_dict = board.information_dict\n",
    "    predicted_new_to_old_dict = board.predicted_new_to_old_dict\n",
    "    correct_position = 0\n",
    "    correct_position_and_rotation = 0\n",
    "    for k in new_to_old_label_dict:\n",
    "        if new_to_old_label_dict[k][:2] == predicted_new_to_old_dict[k][:2]:\n",
    "            correct_position += 1\n",
    "            if new_to_old_label_dict[k][2] == predicted_new_to_old_dict[k][2]:\n",
    "                correct_position_and_rotation += 1\n",
    "    if show_solving_progress:\n",
    "        print(\"*******************\")\n",
    "        print(f\"In correct position: {correct_position}\")\n",
    "        print(f\"In correct position and rotation: {correct_position_and_rotation}\")\n",
    "    return(no_of_pieces, correct_position, correct_position_and_rotation)\n",
    "\n",
    "    \n"
   ]
  },
  {
   "cell_type": "code",
   "execution_count": 68,
   "metadata": {
    "colab": {},
    "colab_type": "code",
    "id": "t2f3j1SuZlDe"
   },
   "outputs": [],
   "source": [
    "import time \n",
    "def run_solver(image_name,i,eval_df,count,row_number):\n",
    "    my_model_name = model_names[i]\n",
    "    my_model = models[i]\n",
    "    start_time = time.time()\n",
    "    my_input = get_puzzle_pieces(image_name,my_puzzle_square_piece_dim, display=False)\n",
    "    pieces,correct_pos,correct_pos_and_rotation = calculate_example_metric(image_name,my_puzzle_square_piece_dim,\n",
    "                                                                           my_model_name, my_model,my_input,my_device,\n",
    "                                                                           show_solving_progress=False,\n",
    "                                                                           input_display=False)\n",
    "    time_taken = round(time.time()-start_time,2)\n",
    "    results_dict = {\"model\" : my_model_name,\n",
    "                    \"image_name\": image_name,\n",
    "                    \"image_index\" : count,\n",
    "                    \"no_of_pieces\": pieces,\n",
    "                    \"correct_pos\": correct_pos, \n",
    "                    \"correct_pos_and_orientation\": correct_pos_and_rotation,\n",
    "                    \"time_taken\": time_taken}\n",
    "    eval_df.loc[row_number] = pd.Series(results_dict)\n",
    "        "
   ]
  },
  {
   "cell_type": "markdown",
   "metadata": {
    "colab_type": "text",
    "id": "mJdv26EaZlDh"
   },
   "source": [
    "## Dataframe to store evaluation results"
   ]
  },
  {
   "cell_type": "code",
   "execution_count": 69,
   "metadata": {
    "colab": {},
    "colab_type": "code",
    "id": "cQCz_kI2ZlDh"
   },
   "outputs": [],
   "source": [
    "column_names = [\"model\",\"image_name\", \"image_index\" , \"no_of_pieces\", \"correct_pos\", \"correct_pos_and_orientation\", \"time_taken\"]\n",
    "eval_results_df = pd.DataFrame(columns = column_names, index = list(range(1,no_of_test_images +1)))"
   ]
  },
  {
   "cell_type": "markdown",
   "metadata": {},
   "source": [
    "# Evaluation"
   ]
  },
  {
   "cell_type": "code",
   "execution_count": null,
   "metadata": {
    "colab": {
     "base_uri": "https://localhost:8080/",
     "height": 34
    },
    "colab_type": "code",
    "id": "WZwuXVCLZlDl",
    "outputId": "9aeece9a-210a-46f3-9857-0413f2be7dfa"
   },
   "outputs": [],
   "source": [
    "count = 0\n",
    "row_number = 0\n",
    "done = False\n",
    "for folder in sample(os.listdir(my_test_dir), len(os.listdir(my_test_dir))):\n",
    "    folder_path = os.path.join(my_test_dir,folder)\n",
    "    images_from_this_folder=0\n",
    "    for image_name in sample(os.listdir(folder_path), len(os.listdir(folder_path))):\n",
    "        count += 1\n",
    "        images_from_this_folder += 1\n",
    "        image_name = os.path.join(folder_path, image_name)\n",
    "        for i in range(1,4):\n",
    "            row_number += 1\n",
    "            run_solver(image_name,i,eval_results_df,count,row_number)\n",
    "            eval_results_df.to_csv('eval_results.csv')\n",
    "            print(f\"Processed Image #{count} with model {model_names[i]}\")\n",
    "        if count >= no_of_test_images:\n",
    "            done = True\n",
    "            break\n",
    "        if images_from_this_folder >= 2:\n",
    "            break\n",
    "    \n",
    "    if done:\n",
    "        break\n",
    "\n",
    "\n"
   ]
  },
  {
   "cell_type": "markdown",
   "metadata": {
    "colab_type": "text",
    "id": "lebIj_xxZlDr"
   },
   "source": [
    "_The evaluation was run on Google Colabs so as to use GPU services and the dataframe was stored as a csv file called eval_results_final.csv_"
   ]
  },
  {
   "cell_type": "markdown",
   "metadata": {},
   "source": [
    "# Dataframe manipulation"
   ]
  },
  {
   "cell_type": "code",
   "execution_count": 70,
   "metadata": {
    "colab": {
     "base_uri": "https://localhost:8080/",
     "height": 255
    },
    "colab_type": "code",
    "id": "H3nJ8flKZlDs",
    "outputId": "75978110-3414-43ab-c1fb-48702f81c1c5"
   },
   "outputs": [],
   "source": [
    "#Read csv data and put it into a dataframe\n",
    "eval_results_df= pd.read_csv('eval_results_final.csv')\n"
   ]
  },
  {
   "cell_type": "code",
   "execution_count": 71,
   "metadata": {
    "colab": {
     "base_uri": "https://localhost:8080/",
     "height": 34
    },
    "colab_type": "code",
    "id": "0hat7NNFZlDw",
    "outputId": "c4b1cccd-f633-4de0-ccbf-6eb5fb55d89c"
   },
   "outputs": [
    {
     "data": {
      "text/plain": [
       "Index(['Unnamed: 0', 'model', 'image_name', 'image_index', 'no_of_pieces',\n",
       "       'correct_pos', 'correct_pos_and_orientation', 'time_taken'],\n",
       "      dtype='object')"
      ]
     },
     "execution_count": 71,
     "metadata": {},
     "output_type": "execute_result"
    }
   ],
   "source": [
    "#Get dataframe columns\n",
    "eval_results_df.columns"
   ]
  },
  {
   "cell_type": "code",
   "execution_count": 72,
   "metadata": {},
   "outputs": [],
   "source": [
    "#Drop unnecessary column\n",
    "del eval_results_df['Unnamed: 0']"
   ]
  },
  {
   "cell_type": "code",
   "execution_count": 73,
   "metadata": {},
   "outputs": [],
   "source": [
    "#Add a new column called solved (1 if the model solves the puzzle completely correctly, 0 otherwise)\n",
    "eval_results_df['solved'] = eval_results_df.apply(lambda row: 1 if row.no_of_pieces == row.correct_pos_and_orientation else 0, axis=1)"
   ]
  },
  {
   "cell_type": "code",
   "execution_count": 74,
   "metadata": {},
   "outputs": [
    {
     "data": {
      "text/html": [
       "<div>\n",
       "<style scoped>\n",
       "    .dataframe tbody tr th:only-of-type {\n",
       "        vertical-align: middle;\n",
       "    }\n",
       "\n",
       "    .dataframe tbody tr th {\n",
       "        vertical-align: top;\n",
       "    }\n",
       "\n",
       "    .dataframe thead th {\n",
       "        text-align: right;\n",
       "    }\n",
       "</style>\n",
       "<table border=\"1\" class=\"dataframe\">\n",
       "  <thead>\n",
       "    <tr style=\"text-align: right;\">\n",
       "      <th></th>\n",
       "      <th>model</th>\n",
       "      <th>image_name</th>\n",
       "      <th>image_index</th>\n",
       "      <th>no_of_pieces</th>\n",
       "      <th>correct_pos</th>\n",
       "      <th>correct_pos_and_orientation</th>\n",
       "      <th>time_taken</th>\n",
       "      <th>solved</th>\n",
       "    </tr>\n",
       "  </thead>\n",
       "  <tbody>\n",
       "    <tr>\n",
       "      <th>0</th>\n",
       "      <td>AdjacencyClassifier_NoML</td>\n",
       "      <td>CUB_200_test/172.Nashville_Warbler/Nashville_W...</td>\n",
       "      <td>1</td>\n",
       "      <td>36</td>\n",
       "      <td>36</td>\n",
       "      <td>36</td>\n",
       "      <td>13.46</td>\n",
       "      <td>1</td>\n",
       "    </tr>\n",
       "    <tr>\n",
       "      <th>1</th>\n",
       "      <td>FromScratch</td>\n",
       "      <td>CUB_200_test/172.Nashville_Warbler/Nashville_W...</td>\n",
       "      <td>1</td>\n",
       "      <td>36</td>\n",
       "      <td>36</td>\n",
       "      <td>36</td>\n",
       "      <td>21.28</td>\n",
       "      <td>1</td>\n",
       "    </tr>\n",
       "    <tr>\n",
       "      <th>2</th>\n",
       "      <td>ResNetFT</td>\n",
       "      <td>CUB_200_test/172.Nashville_Warbler/Nashville_W...</td>\n",
       "      <td>1</td>\n",
       "      <td>36</td>\n",
       "      <td>36</td>\n",
       "      <td>36</td>\n",
       "      <td>25.64</td>\n",
       "      <td>1</td>\n",
       "    </tr>\n",
       "    <tr>\n",
       "      <th>3</th>\n",
       "      <td>AdjacencyClassifier_NoML</td>\n",
       "      <td>CUB_200_test/172.Nashville_Warbler/Nashville_W...</td>\n",
       "      <td>2</td>\n",
       "      <td>36</td>\n",
       "      <td>17</td>\n",
       "      <td>17</td>\n",
       "      <td>13.31</td>\n",
       "      <td>0</td>\n",
       "    </tr>\n",
       "    <tr>\n",
       "      <th>4</th>\n",
       "      <td>FromScratch</td>\n",
       "      <td>CUB_200_test/172.Nashville_Warbler/Nashville_W...</td>\n",
       "      <td>2</td>\n",
       "      <td>36</td>\n",
       "      <td>1</td>\n",
       "      <td>1</td>\n",
       "      <td>21.95</td>\n",
       "      <td>0</td>\n",
       "    </tr>\n",
       "    <tr>\n",
       "      <th>5</th>\n",
       "      <td>ResNetFT</td>\n",
       "      <td>CUB_200_test/172.Nashville_Warbler/Nashville_W...</td>\n",
       "      <td>2</td>\n",
       "      <td>36</td>\n",
       "      <td>36</td>\n",
       "      <td>36</td>\n",
       "      <td>23.83</td>\n",
       "      <td>1</td>\n",
       "    </tr>\n",
       "  </tbody>\n",
       "</table>\n",
       "</div>"
      ],
      "text/plain": [
       "                      model  \\\n",
       "0  AdjacencyClassifier_NoML   \n",
       "1               FromScratch   \n",
       "2                  ResNetFT   \n",
       "3  AdjacencyClassifier_NoML   \n",
       "4               FromScratch   \n",
       "5                  ResNetFT   \n",
       "\n",
       "                                          image_name  image_index  \\\n",
       "0  CUB_200_test/172.Nashville_Warbler/Nashville_W...            1   \n",
       "1  CUB_200_test/172.Nashville_Warbler/Nashville_W...            1   \n",
       "2  CUB_200_test/172.Nashville_Warbler/Nashville_W...            1   \n",
       "3  CUB_200_test/172.Nashville_Warbler/Nashville_W...            2   \n",
       "4  CUB_200_test/172.Nashville_Warbler/Nashville_W...            2   \n",
       "5  CUB_200_test/172.Nashville_Warbler/Nashville_W...            2   \n",
       "\n",
       "   no_of_pieces  correct_pos  correct_pos_and_orientation  time_taken  solved  \n",
       "0            36           36                           36       13.46       1  \n",
       "1            36           36                           36       21.28       1  \n",
       "2            36           36                           36       25.64       1  \n",
       "3            36           17                           17       13.31       0  \n",
       "4            36            1                            1       21.95       0  \n",
       "5            36           36                           36       23.83       1  "
      ]
     },
     "execution_count": 74,
     "metadata": {},
     "output_type": "execute_result"
    }
   ],
   "source": [
    "eval_results_df.head(6)"
   ]
  },
  {
   "cell_type": "code",
   "execution_count": 75,
   "metadata": {
    "colab": {},
    "colab_type": "code",
    "id": "q2mpYqUSoPo6"
   },
   "outputs": [],
   "source": [
    "#creating dataframes for individual models\n",
    "model_names = ['AdjacencyClassifier_NoML', 'FromScratch', 'ResNetFT']\n",
    "models_stats_dict= {}\n",
    "for model_name in model_names:\n",
    "    models_stats_dict[model_name]=eval_results_df[eval_results_df.model==model_name].reset_index(drop=True)\n"
   ]
  },
  {
   "cell_type": "markdown",
   "metadata": {},
   "source": [
    "# Evaluation"
   ]
  },
  {
   "cell_type": "markdown",
   "metadata": {},
   "source": [
    "## Sizes of test puzzles"
   ]
  },
  {
   "cell_type": "code",
   "execution_count": 76,
   "metadata": {},
   "outputs": [],
   "source": [
    "sizes_of_puzzles = list(eval_results_df.no_of_pieces.unique())"
   ]
  },
  {
   "cell_type": "code",
   "execution_count": 77,
   "metadata": {},
   "outputs": [],
   "source": [
    "puzzle_size_freq = eval_results_df['no_of_pieces'].value_counts()//3"
   ]
  },
  {
   "cell_type": "code",
   "execution_count": 78,
   "metadata": {},
   "outputs": [],
   "source": [
    "puzzle_size_freq = puzzle_size_freq.rename_axis('puzzle_sizes').reset_index(name='no_of_puzzles')"
   ]
  },
  {
   "cell_type": "code",
   "execution_count": 79,
   "metadata": {},
   "outputs": [
    {
     "data": {
      "text/html": [
       "<div>\n",
       "<style scoped>\n",
       "    .dataframe tbody tr th:only-of-type {\n",
       "        vertical-align: middle;\n",
       "    }\n",
       "\n",
       "    .dataframe tbody tr th {\n",
       "        vertical-align: top;\n",
       "    }\n",
       "\n",
       "    .dataframe thead th {\n",
       "        text-align: right;\n",
       "    }\n",
       "</style>\n",
       "<table border=\"1\" class=\"dataframe\">\n",
       "  <thead>\n",
       "    <tr style=\"text-align: right;\">\n",
       "      <th></th>\n",
       "      <th>puzzle_sizes</th>\n",
       "      <th>no_of_puzzles</th>\n",
       "    </tr>\n",
       "  </thead>\n",
       "  <tbody>\n",
       "    <tr>\n",
       "      <th>0</th>\n",
       "      <td>36</td>\n",
       "      <td>67</td>\n",
       "    </tr>\n",
       "    <tr>\n",
       "      <th>1</th>\n",
       "      <td>25</td>\n",
       "      <td>11</td>\n",
       "    </tr>\n",
       "    <tr>\n",
       "      <th>2</th>\n",
       "      <td>16</td>\n",
       "      <td>2</td>\n",
       "    </tr>\n",
       "  </tbody>\n",
       "</table>\n",
       "</div>"
      ],
      "text/plain": [
       "   puzzle_sizes  no_of_puzzles\n",
       "0            36             67\n",
       "1            25             11\n",
       "2            16              2"
      ]
     },
     "execution_count": 79,
     "metadata": {},
     "output_type": "execute_result"
    }
   ],
   "source": [
    "puzzle_size_freq"
   ]
  },
  {
   "cell_type": "markdown",
   "metadata": {},
   "source": [
    "## Statistics"
   ]
  },
  {
   "cell_type": "code",
   "execution_count": 80,
   "metadata": {},
   "outputs": [],
   "source": [
    "eval_stats_df = pd.DataFrame(columns=model_names, index=['avg_time_taken','percentage_solved'])"
   ]
  },
  {
   "cell_type": "code",
   "execution_count": 81,
   "metadata": {},
   "outputs": [],
   "source": [
    "#average time taken\n",
    "avg_time_taken = {}\n",
    "for model_name in model_names:\n",
    "    avg_time_taken[model_name] =models_stats_dict[model_name][\"time_taken\"].mean()\n",
    "    \n",
    "eval_stats_df.loc['avg_time_taken'] = pd.Series(avg_time_taken)"
   ]
  },
  {
   "cell_type": "code",
   "execution_count": 82,
   "metadata": {},
   "outputs": [],
   "source": [
    "#percentage solved\n",
    "percentage_solved = {}\n",
    "for model_name in model_names:\n",
    "    percentage_solved[model_name] = models_stats_dict[model_name][\"solved\"].sum()/no_of_test_images\n",
    "    \n",
    "eval_stats_df.loc['percentage_solved'] = pd.Series(percentage_solved)"
   ]
  },
  {
   "cell_type": "code",
   "execution_count": 83,
   "metadata": {},
   "outputs": [],
   "source": [
    "#average puzzle size\n",
    "avg_puzzle_sizes = {}\n",
    "for model_name in model_names:\n",
    "    avg_puzzle_sizes[model_name] =models_stats_dict[model_name][\"no_of_pieces\"].mean()\n",
    "    \n",
    "eval_stats_df.loc['avg_puzzle_sizes'] = pd.Series(avg_puzzle_sizes)"
   ]
  },
  {
   "cell_type": "code",
   "execution_count": 84,
   "metadata": {},
   "outputs": [
    {
     "data": {
      "text/html": [
       "<div>\n",
       "<style scoped>\n",
       "    .dataframe tbody tr th:only-of-type {\n",
       "        vertical-align: middle;\n",
       "    }\n",
       "\n",
       "    .dataframe tbody tr th {\n",
       "        vertical-align: top;\n",
       "    }\n",
       "\n",
       "    .dataframe thead th {\n",
       "        text-align: right;\n",
       "    }\n",
       "</style>\n",
       "<table border=\"1\" class=\"dataframe\">\n",
       "  <thead>\n",
       "    <tr style=\"text-align: right;\">\n",
       "      <th></th>\n",
       "      <th>AdjacencyClassifier_NoML</th>\n",
       "      <th>FromScratch</th>\n",
       "      <th>ResNetFT</th>\n",
       "    </tr>\n",
       "  </thead>\n",
       "  <tbody>\n",
       "    <tr>\n",
       "      <th>avg_time_taken</th>\n",
       "      <td>11.2126</td>\n",
       "      <td>18.9795</td>\n",
       "      <td>23.0482</td>\n",
       "    </tr>\n",
       "    <tr>\n",
       "      <th>percentage_solved</th>\n",
       "      <td>0.875</td>\n",
       "      <td>0.375</td>\n",
       "      <td>0.875</td>\n",
       "    </tr>\n",
       "    <tr>\n",
       "      <th>avg_puzzle_sizes</th>\n",
       "      <td>33.9875</td>\n",
       "      <td>33.9875</td>\n",
       "      <td>33.9875</td>\n",
       "    </tr>\n",
       "  </tbody>\n",
       "</table>\n",
       "</div>"
      ],
      "text/plain": [
       "                  AdjacencyClassifier_NoML FromScratch ResNetFT\n",
       "avg_time_taken                     11.2126     18.9795  23.0482\n",
       "percentage_solved                    0.875       0.375    0.875\n",
       "avg_puzzle_sizes                   33.9875     33.9875  33.9875"
      ]
     },
     "execution_count": 84,
     "metadata": {},
     "output_type": "execute_result"
    }
   ],
   "source": [
    "eval_stats_df"
   ]
  },
  {
   "cell_type": "markdown",
   "metadata": {},
   "source": [
    "## Comparison of models"
   ]
  },
  {
   "cell_type": "code",
   "execution_count": 85,
   "metadata": {},
   "outputs": [],
   "source": [
    "#examples' solved statuses vs models\n",
    "comparison_df = pd.DataFrame(columns=model_names, index=list(range(no_of_test_images)))\n",
    "\n",
    "for model_name in model_names:\n",
    "    comparison_df[model_name]= models_stats_dict[model_name][\"solved\"]"
   ]
  },
  {
   "cell_type": "code",
   "execution_count": 86,
   "metadata": {},
   "outputs": [],
   "source": [
    "#comparing the symmetric difference of two models at a time\n",
    "model_name_pairs = []\n",
    "for i,j in [(0,1), (0,2), (1,2)]:\n",
    "    \n",
    "    models_in_comparison = model_names[i]+\"/\"+model_names[j]\n",
    "    model_name_pairs.append(models_in_comparison)\n",
    "    comparison_df[models_in_comparison] = comparison_df.apply(lambda row: row[model_names[i]] ^ row[model_names[j]], axis=1)"
   ]
  },
  {
   "cell_type": "code",
   "execution_count": 87,
   "metadata": {},
   "outputs": [
    {
     "name": "stdout",
     "output_type": "stream",
     "text": [
      "\n",
      "Comparing AdjacencyClassifier_NoML and FromScratch\n",
      "\n",
      "Solved jointly = 30\n",
      "Unsolved jointly = 10\n",
      "Solved by AdjacencyClassifier_NoML alone = 40\n",
      "Solved by FromScratch alone = 0\n",
      "\n",
      "********************************\n",
      "\n",
      "Comparing AdjacencyClassifier_NoML and ResNetFT\n",
      "\n",
      "Solved jointly = 66\n",
      "Unsolved jointly = 6\n",
      "Solved by AdjacencyClassifier_NoML alone = 4\n",
      "Solved by ResNetFT alone = 4\n",
      "\n",
      "********************************\n",
      "\n",
      "Comparing FromScratch and ResNetFT\n",
      "\n",
      "Solved jointly = 30\n",
      "Unsolved jointly = 10\n",
      "Solved by FromScratch alone = 0\n",
      "Solved by ResNetFT alone = 40\n",
      "\n",
      "********************************\n"
     ]
    }
   ],
   "source": [
    "for model_name_pair in model_name_pairs:\n",
    "    first_model = model_name_pair.split(\"/\")[0]\n",
    "    second_model = model_name_pair.split(\"/\")[1]\n",
    "    \n",
    "    a = eval_stats_df.loc['percentage_solved'][first_model]*no_of_test_images \n",
    "    b = eval_stats_df.loc['percentage_solved'][second_model]*no_of_test_images\n",
    "    #a+b-2x = comparison_df[model_name_pair].sum()\n",
    "    #solved_jointly = x\n",
    "    solved_jointly = int((a+b-comparison_df[model_name_pair].sum())/2)\n",
    "    solved_by_first_model_alone = int(a - solved_jointly)\n",
    "    solved_by_second_model_alone = int(b - solved_jointly)\n",
    "    unsolved_jointly = int(no_of_test_images - (a+b-solved_jointly))\n",
    "    print(\"\")\n",
    "    print(f\"Comparing {first_model} and {second_model}\")\n",
    "    print(\"\")\n",
    "    print(f\"Solved jointly = {solved_jointly}\")\n",
    "    print(f\"Unsolved jointly = {unsolved_jointly}\")\n",
    "    print(f\"Solved by {first_model} alone = {solved_by_first_model_alone}\")\n",
    "    print(f\"Solved by {second_model} alone = {solved_by_second_model_alone}\")\n",
    "    print(\"\")\n",
    "    print(\"********************************\")\n",
    "    \n",
    "    "
   ]
  },
  {
   "cell_type": "code",
   "execution_count": 88,
   "metadata": {},
   "outputs": [],
   "source": [
    "#Examples solved by all three models\n",
    "comparison_df[\"solved_by_all_three\"] = comparison_df.apply(lambda row: 1 if row[model_names[0]]==1 and row[model_names[1]] == 1 and row[model_names[2]]==1 else 0, axis=1)"
   ]
  },
  {
   "cell_type": "code",
   "execution_count": 89,
   "metadata": {},
   "outputs": [],
   "source": [
    "solved_by_all_three = comparison_df[\"solved_by_all_three\"].sum()"
   ]
  },
  {
   "cell_type": "code",
   "execution_count": 90,
   "metadata": {},
   "outputs": [],
   "source": [
    "#Examples solved by at least one of the three models\n",
    "comparison_df[\"solved_by_atleast_one\"] = comparison_df.apply(lambda row: row[model_names[0]] + row[model_names[1]] + row[model_names[2]], axis=1)"
   ]
  },
  {
   "cell_type": "code",
   "execution_count": 91,
   "metadata": {},
   "outputs": [],
   "source": [
    "solved_by_atleast_one = len(comparison_df[comparison_df[\"solved_by_atleast_one\"]>0])"
   ]
  },
  {
   "cell_type": "code",
   "execution_count": 92,
   "metadata": {},
   "outputs": [],
   "source": [
    "solved_by_none = len(comparison_df[comparison_df[\"solved_by_atleast_one\"]<=0])"
   ]
  },
  {
   "cell_type": "code",
   "execution_count": 93,
   "metadata": {},
   "outputs": [
    {
     "name": "stdout",
     "output_type": "stream",
     "text": [
      "Solved by all the three models = 30\n",
      "Solved by at least one model = 74\n",
      "Solved by none of the models = 6\n"
     ]
    }
   ],
   "source": [
    "print(f'Solved by all the three models = {solved_by_all_three}')\n",
    "print(f'Solved by at least one model = {solved_by_atleast_one}')\n",
    "print(f'Solved by none of the models = {solved_by_none}')"
   ]
  },
  {
   "cell_type": "markdown",
   "metadata": {},
   "source": [
    "## Examples on which models underperformed"
   ]
  },
  {
   "cell_type": "markdown",
   "metadata": {},
   "source": [
    "### Extracting information from the dataframes"
   ]
  },
  {
   "cell_type": "code",
   "execution_count": 97,
   "metadata": {},
   "outputs": [],
   "source": [
    "unsolved_indices_dict = {}\n",
    "unsolved_indices_dict[\"All\"]= list(comparison_df[comparison_df[\"solved_by_atleast_one\"]<=0].index)\n",
    "for model_name in model_names:\n",
    "    unsolved_indices_dict[model_name] = list(models_stats_dict[model_name][models_stats_dict[model_name][\"solved\"]==0].index)\n"
   ]
  },
  {
   "cell_type": "code",
   "execution_count": 98,
   "metadata": {},
   "outputs": [],
   "source": [
    "unsolved_images_dict = {}\n",
    "for key in unsolved_indices_dict:\n",
    "    unsolved_images_dict[key] = set()\n",
    "    for i in unsolved_indices_dict[key]:\n",
    "        unsolved_images_dict[key].add(models_stats_dict[\"AdjacencyClassifier_NoML\"].loc[i][\"image_name\"])"
   ]
  },
  {
   "cell_type": "markdown",
   "metadata": {},
   "source": [
    "### Saving incorrectly solved examples for further analysis"
   ]
  },
  {
   "cell_type": "code",
   "execution_count": 99,
   "metadata": {},
   "outputs": [],
   "source": [
    "shelfFile = shelve.open('mydata')\n",
    "shelfFile[\"unsolved_indices_dict\"] = unsolved_indices_dict\n",
    "shelfFile[\"unsolved_images_dict\"] = unsolved_images_dict\n",
    "shelfFile.close()"
   ]
  },
  {
   "cell_type": "markdown",
   "metadata": {},
   "source": [
    "# Results"
   ]
  },
  {
   "cell_type": "markdown",
   "metadata": {},
   "source": [
    "## Summary"
   ]
  },
  {
   "cell_type": "markdown",
   "metadata": {},
   "source": [
    "There were 67 _six-by-six_ puzzles, 11 _five-by-five_ puzzles and 2 _four-by-four_ puzzles in the evaluation set"
   ]
  },
  {
   "cell_type": "code",
   "execution_count": 100,
   "metadata": {},
   "outputs": [
    {
     "data": {
      "text/html": [
       "<div>\n",
       "<style scoped>\n",
       "    .dataframe tbody tr th:only-of-type {\n",
       "        vertical-align: middle;\n",
       "    }\n",
       "\n",
       "    .dataframe tbody tr th {\n",
       "        vertical-align: top;\n",
       "    }\n",
       "\n",
       "    .dataframe thead th {\n",
       "        text-align: right;\n",
       "    }\n",
       "</style>\n",
       "<table border=\"1\" class=\"dataframe\">\n",
       "  <thead>\n",
       "    <tr style=\"text-align: right;\">\n",
       "      <th></th>\n",
       "      <th>puzzle_sizes</th>\n",
       "      <th>no_of_puzzles</th>\n",
       "    </tr>\n",
       "  </thead>\n",
       "  <tbody>\n",
       "    <tr>\n",
       "      <th>0</th>\n",
       "      <td>36</td>\n",
       "      <td>67</td>\n",
       "    </tr>\n",
       "    <tr>\n",
       "      <th>1</th>\n",
       "      <td>25</td>\n",
       "      <td>11</td>\n",
       "    </tr>\n",
       "    <tr>\n",
       "      <th>2</th>\n",
       "      <td>16</td>\n",
       "      <td>2</td>\n",
       "    </tr>\n",
       "  </tbody>\n",
       "</table>\n",
       "</div>"
      ],
      "text/plain": [
       "   puzzle_sizes  no_of_puzzles\n",
       "0            36             67\n",
       "1            25             11\n",
       "2            16              2"
      ]
     },
     "execution_count": 100,
     "metadata": {},
     "output_type": "execute_result"
    }
   ],
   "source": [
    "puzzle_size_freq"
   ]
  },
  {
   "cell_type": "markdown",
   "metadata": {},
   "source": [
    "Both the _AdjacencyClassifier_NoML_ and the _ResNetFT_ solved 87.5 % of the puzzles completely correctly. _FromScratch_ underperformed by solving only 37.5 % of the puzzles completely correctly."
   ]
  },
  {
   "cell_type": "code",
   "execution_count": 101,
   "metadata": {},
   "outputs": [
    {
     "data": {
      "text/html": [
       "<div>\n",
       "<style scoped>\n",
       "    .dataframe tbody tr th:only-of-type {\n",
       "        vertical-align: middle;\n",
       "    }\n",
       "\n",
       "    .dataframe tbody tr th {\n",
       "        vertical-align: top;\n",
       "    }\n",
       "\n",
       "    .dataframe thead th {\n",
       "        text-align: right;\n",
       "    }\n",
       "</style>\n",
       "<table border=\"1\" class=\"dataframe\">\n",
       "  <thead>\n",
       "    <tr style=\"text-align: right;\">\n",
       "      <th></th>\n",
       "      <th>AdjacencyClassifier_NoML</th>\n",
       "      <th>FromScratch</th>\n",
       "      <th>ResNetFT</th>\n",
       "    </tr>\n",
       "  </thead>\n",
       "  <tbody>\n",
       "    <tr>\n",
       "      <th>avg_time_taken</th>\n",
       "      <td>11.2126</td>\n",
       "      <td>18.9795</td>\n",
       "      <td>23.0482</td>\n",
       "    </tr>\n",
       "    <tr>\n",
       "      <th>percentage_solved</th>\n",
       "      <td>0.875</td>\n",
       "      <td>0.375</td>\n",
       "      <td>0.875</td>\n",
       "    </tr>\n",
       "    <tr>\n",
       "      <th>avg_puzzle_sizes</th>\n",
       "      <td>33.9875</td>\n",
       "      <td>33.9875</td>\n",
       "      <td>33.9875</td>\n",
       "    </tr>\n",
       "  </tbody>\n",
       "</table>\n",
       "</div>"
      ],
      "text/plain": [
       "                  AdjacencyClassifier_NoML FromScratch ResNetFT\n",
       "avg_time_taken                     11.2126     18.9795  23.0482\n",
       "percentage_solved                    0.875       0.375    0.875\n",
       "avg_puzzle_sizes                   33.9875     33.9875  33.9875"
      ]
     },
     "execution_count": 101,
     "metadata": {},
     "output_type": "execute_result"
    }
   ],
   "source": [
    "eval_stats_df"
   ]
  },
  {
   "cell_type": "markdown",
   "metadata": {},
   "source": [
    "## A venn diagram to visualize the comparisons"
   ]
  },
  {
   "cell_type": "code",
   "execution_count": 102,
   "metadata": {},
   "outputs": [
    {
     "data": {
      "image/png": "[encoded data removed]",
      "text/plain": [
       "<Figure size 432x288 with 1 Axes>"
      ]
     },
     "metadata": {},
     "output_type": "display_data"
    }
   ],
   "source": [
    "fig = plt.figure()\n",
    "plt.rcParams.update({'font.size':15})\n",
    "v = venn3_unweighted(subsets = (4, 4, 36, 0,0,0,30), set_labels=('Adj_NoML', 'ResNetFT', 'FromScratch'))\n",
    "plt.axis(\"on\")\n",
    "plt.text(0.45, -0.55, '       6\\nUnsolved')\n",
    "plt.gca().set_facecolor('lightgray')\n",
    "fig.tight_layout(pad=-5);"
   ]
  },
  {
   "cell_type": "markdown",
   "metadata": {},
   "source": [
    "## Comments"
   ]
  },
  {
   "cell_type": "markdown",
   "metadata": {},
   "source": [
    "The current evaluation classifies a puzzle as _unsolved_ even if the models got a major chunk right but placed it incorrectly on the board. So we will further visually investigate what the models did on puzzles they did not solve completey correctly. "
   ]
  },
  {
   "cell_type": "code",
   "execution_count": null,
   "metadata": {},
   "outputs": [],
   "source": []
  }
 ],
 "metadata": {
  "accelerator": "GPU",
  "colab": {
   "name": "SolverComparisons.ipynb",
   "provenance": [],
   "toc_visible": true
  },
  "kernelspec": {
   "display_name": "Python 3",
   "language": "python",
   "name": "python3"
  },
  "language_info": {
   "codemirror_mode": {
    "name": "ipython",
    "version": 3
   },
   "file_extension": ".py",
   "mimetype": "text/x-python",
   "name": "python",
   "nbconvert_exporter": "python",
   "pygments_lexer": "ipython3",
   "version": "3.7.6"
  },
  "toc": {
   "base_numbering": 1,
   "nav_menu": {},
   "number_sections": true,
   "sideBar": true,
   "skip_h1_title": false,
   "title_cell": "Table of Contents",
   "title_sidebar": "Contents",
   "toc_cell": false,
   "toc_position": {},
   "toc_section_display": true,
   "toc_window_display": true
  }
 },
 "nbformat": 4,
 "nbformat_minor": 1
}
